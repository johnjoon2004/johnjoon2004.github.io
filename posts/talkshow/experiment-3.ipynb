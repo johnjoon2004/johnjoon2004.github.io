{
 "cells": [
  {
   "cell_type": "code",
   "execution_count": 3,
   "metadata": {},
   "outputs": [
    {
     "name": "stdout",
     "output_type": "stream",
     "text": [
      "  name   sex       party\n",
      "0   재명  male          DP\n",
      "1   덕수  male         PPP\n",
      "2   준석  male  Revolution\n"
     ]
    }
   ],
   "source": [
    "import pandas as pd\n",
    "from pprint import pprint\n",
    "\n",
    "data = [\n",
    "    {\n",
    "        \"name\": \"재명\",\n",
    "        \"sex\": \"male\",\n",
    "        \"party\": \"DP\",\n",
    "    },\n",
    "    {\n",
    "        \"name\": \"덕수\",\n",
    "        \"sex\": \"male\",\n",
    "        \"party\": \"PPP\",\n",
    "    },\n",
    "    {\n",
    "        \"name\": \"준석\",\n",
    "        \"sex\": \"male\",\n",
    "        \"party\": \"Revolution\",\n",
    "    }\n",
    "]\n",
    "\n",
    "df = pd.DataFrame(data)\n",
    "pprint(df.head())"
   ]
  },
  {
   "cell_type": "code",
   "execution_count": null,
   "metadata": {},
   "outputs": [],
   "source": []
  }
 ],
 "metadata": {
  "kernelspec": {
   "display_name": ".venv",
   "language": "python",
   "name": "python3"
  },
  "language_info": {
   "codemirror_mode": {
    "name": "ipython",
    "version": 3
   },
   "file_extension": ".py",
   "mimetype": "text/x-python",
   "name": "python",
   "nbconvert_exporter": "python",
   "pygments_lexer": "ipython3",
   "version": "3.12.3"
  }
 },
 "nbformat": 4,
 "nbformat_minor": 2
}
